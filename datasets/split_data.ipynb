{
 "cells": [
  {
   "cell_type": "code",
   "execution_count": 4,
   "metadata": {},
   "outputs": [],
   "source": [
    "import pandas as pd\n",
    "from sklearn.model_selection import train_test_split\n",
    "\n",
    "# 读取CSV文件\n",
    "df = pd.read_csv('./simplifyweibo_4_moods.csv', header=None, names=['label', 'text'])\n",
    "\n",
    "# 创建训练和测试数据集\n",
    "train_list = []\n",
    "test_list = []\n",
    "\n",
    "# 阈值\n",
    "threshold = 5\n",
    "\n",
    "# 对每个类别进行分割\n",
    "for label in df['label'].unique():\n",
    "    df_label = df[df['label'] == label]\n",
    "    if len(df_label) < threshold:\n",
    "        # 样本数太少，直接将所有数据放入训练集\n",
    "        train_list.append(df_label)\n",
    "    else:\n",
    "        # 样本数足够，进行70%训练、30%测试的拆分\n",
    "        train, test = train_test_split(df_label, test_size=0.3, random_state=42)\n",
    "        train_list.append(train)\n",
    "        test_list.append(test)\n",
    "\n",
    "# 合并各个类别的数据\n",
    "train_df = pd.concat(train_list).reset_index(drop=True)\n",
    "test_df = pd.concat(test_list).reset_index(drop=True)\n",
    "\n",
    "# 保存到CSV文件\n",
    "train_df.to_csv('train.csv', index=False, header=False)\n",
    "test_df.to_csv('test.csv', index=False, header=False)"
   ]
  }
 ],
 "metadata": {
  "kernelspec": {
   "display_name": "limu_deepl",
   "language": "python",
   "name": "python3"
  },
  "language_info": {
   "codemirror_mode": {
    "name": "ipython",
    "version": 3
   },
   "file_extension": ".py",
   "mimetype": "text/x-python",
   "name": "python",
   "nbconvert_exporter": "python",
   "pygments_lexer": "ipython3",
   "version": "3.9.18"
  }
 },
 "nbformat": 4,
 "nbformat_minor": 2
}
